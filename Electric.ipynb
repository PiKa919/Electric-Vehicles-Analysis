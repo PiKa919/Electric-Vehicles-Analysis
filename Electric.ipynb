{
 "cells": [
  {
   "cell_type": "code",
   "execution_count": 2,
   "id": "a19c5078",
   "metadata": {},
   "outputs": [],
   "source": [
    "import pandas as pd\n",
    "import numpy as np\n",
    "import matplotlib.pyplot as plt"
   ]
  },
  {
   "cell_type": "code",
   "execution_count": 3,
   "id": "32a01be1",
   "metadata": {},
   "outputs": [],
   "source": [
    "df = pd.read_csv('Electric_Vehicle_Population_Data copy.csv')"
   ]
  },
  {
   "cell_type": "code",
   "execution_count": 4,
   "id": "45b06ba6",
   "metadata": {
    "scrolled": true
   },
   "outputs": [
    {
     "name": "stdout",
     "output_type": "stream",
     "text": [
      "   VIN (1-10)     County       City State  Postal Code  Model Year    Make  \\\n",
      "0  5YJ3E1EA0K   Thurston   Tumwater    WA      98512.0        2019   TESLA   \n",
      "1  1N4BZ1DV4N     Island    Clinton    WA      98236.0        2022  NISSAN   \n",
      "2  5YJ3E1EA0L  Snohomish  Snohomish    WA      98290.0        2020   TESLA   \n",
      "3  5YJ3E1EBXL       King    Seattle    WA      98134.0        2020   TESLA   \n",
      "4  5YJSA1CP0D  Snohomish    Edmonds    WA      98020.0        2013   TESLA   \n",
      "\n",
      "     Model           Electric Vehicle Type  \\\n",
      "0  MODEL 3  Battery Electric Vehicle (BEV)   \n",
      "1     LEAF  Battery Electric Vehicle (BEV)   \n",
      "2  MODEL 3  Battery Electric Vehicle (BEV)   \n",
      "3  MODEL 3  Battery Electric Vehicle (BEV)   \n",
      "4  MODEL S  Battery Electric Vehicle (BEV)   \n",
      "\n",
      "   Clean Alternative Fuel Vehicle (CAFV) Eligibility  Electric Range  \\\n",
      "0            Clean Alternative Fuel Vehicle Eligible           220.0   \n",
      "1  Eligibility unknown as battery range has not b...             0.0   \n",
      "2            Clean Alternative Fuel Vehicle Eligible           266.0   \n",
      "3            Clean Alternative Fuel Vehicle Eligible           322.0   \n",
      "4            Clean Alternative Fuel Vehicle Eligible           208.0   \n",
      "\n",
      "   Base MSRP  Legislative District  DOL Vehicle ID  \\\n",
      "0        0.0                  22.0       242565116   \n",
      "1        0.0                  10.0       183272785   \n",
      "2        0.0                  44.0       112552366   \n",
      "3        0.0                  11.0         6336319   \n",
      "4    69900.0                  21.0       186212960   \n",
      "\n",
      "                                 Vehicle Location  \\\n",
      "0   POINT (-122.91310169999997 47.01359260000004)   \n",
      "1   POINT (-122.35936399999997 47.97965520000008)   \n",
      "2   POINT (-122.09150499999998 47.91555500000004)   \n",
      "3  POINT (-122.32981499999994 47.579810000000066)   \n",
      "4            POINT (-122.37507 47.80807000000004)   \n",
      "\n",
      "                               Electric Utility  2020 Census Tract  \n",
      "0                        PUGET SOUND ENERGY INC       5.306701e+10  \n",
      "1                        PUGET SOUND ENERGY INC       5.302997e+10  \n",
      "2                        PUGET SOUND ENERGY INC       5.306105e+10  \n",
      "3  CITY OF SEATTLE - (WA)|CITY OF TACOMA - (WA)       5.303301e+10  \n",
      "4                        PUGET SOUND ENERGY INC       5.306105e+10  \n"
     ]
    }
   ],
   "source": [
    "#Check the structure and contents of the dataset using \n",
    "print(df.head())\n",
    "df.info()"
   ]
  },
  {
   "cell_type": "code",
   "execution_count": 6,
   "id": "7cd2e7e6",
   "metadata": {},
   "outputs": [
    {
     "data": {
      "text/html": [
       "<div>\n",
       "<style scoped>\n",
       "    .dataframe tbody tr th:only-of-type {\n",
       "        vertical-align: middle;\n",
       "    }\n",
       "\n",
       "    .dataframe tbody tr th {\n",
       "        vertical-align: top;\n",
       "    }\n",
       "\n",
       "    .dataframe thead th {\n",
       "        text-align: right;\n",
       "    }\n",
       "</style>\n",
       "<table border=\"1\" class=\"dataframe\">\n",
       "  <thead>\n",
       "    <tr style=\"text-align: right;\">\n",
       "      <th></th>\n",
       "      <th>Postal Code</th>\n",
       "      <th>Model Year</th>\n",
       "      <th>Electric Range</th>\n",
       "      <th>Base MSRP</th>\n",
       "      <th>Legislative District</th>\n",
       "      <th>DOL Vehicle ID</th>\n",
       "      <th>2020 Census Tract</th>\n",
       "    </tr>\n",
       "  </thead>\n",
       "  <tbody>\n",
       "    <tr>\n",
       "      <th>count</th>\n",
       "      <td>135030.000000</td>\n",
       "      <td>135038.000000</td>\n",
       "      <td>135037.000000</td>\n",
       "      <td>135037.000000</td>\n",
       "      <td>134726.000000</td>\n",
       "      <td>1.350380e+05</td>\n",
       "      <td>1.350300e+05</td>\n",
       "    </tr>\n",
       "    <tr>\n",
       "      <th>mean</th>\n",
       "      <td>98171.001577</td>\n",
       "      <td>2019.662880</td>\n",
       "      <td>74.591964</td>\n",
       "      <td>1448.407325</td>\n",
       "      <td>29.504379</td>\n",
       "      <td>2.063432e+08</td>\n",
       "      <td>5.297233e+10</td>\n",
       "    </tr>\n",
       "    <tr>\n",
       "      <th>std</th>\n",
       "      <td>2450.367211</td>\n",
       "      <td>3.001676</td>\n",
       "      <td>98.744120</td>\n",
       "      <td>9683.658138</td>\n",
       "      <td>14.783780</td>\n",
       "      <td>8.582417e+07</td>\n",
       "      <td>1.635783e+09</td>\n",
       "    </tr>\n",
       "    <tr>\n",
       "      <th>min</th>\n",
       "      <td>1730.000000</td>\n",
       "      <td>1997.000000</td>\n",
       "      <td>0.000000</td>\n",
       "      <td>0.000000</td>\n",
       "      <td>1.000000</td>\n",
       "      <td>4.385000e+03</td>\n",
       "      <td>1.081042e+09</td>\n",
       "    </tr>\n",
       "    <tr>\n",
       "      <th>25%</th>\n",
       "      <td>98052.000000</td>\n",
       "      <td>2018.000000</td>\n",
       "      <td>0.000000</td>\n",
       "      <td>0.000000</td>\n",
       "      <td>18.000000</td>\n",
       "      <td>1.606305e+08</td>\n",
       "      <td>5.303301e+10</td>\n",
       "    </tr>\n",
       "    <tr>\n",
       "      <th>50%</th>\n",
       "      <td>98121.000000</td>\n",
       "      <td>2021.000000</td>\n",
       "      <td>21.000000</td>\n",
       "      <td>0.000000</td>\n",
       "      <td>34.000000</td>\n",
       "      <td>2.059563e+08</td>\n",
       "      <td>5.303303e+10</td>\n",
       "    </tr>\n",
       "    <tr>\n",
       "      <th>75%</th>\n",
       "      <td>98370.000000</td>\n",
       "      <td>2022.000000</td>\n",
       "      <td>150.000000</td>\n",
       "      <td>0.000000</td>\n",
       "      <td>43.000000</td>\n",
       "      <td>2.308888e+08</td>\n",
       "      <td>5.305307e+10</td>\n",
       "    </tr>\n",
       "    <tr>\n",
       "      <th>max</th>\n",
       "      <td>99701.000000</td>\n",
       "      <td>2024.000000</td>\n",
       "      <td>337.000000</td>\n",
       "      <td>845000.000000</td>\n",
       "      <td>49.000000</td>\n",
       "      <td>4.792548e+08</td>\n",
       "      <td>5.603300e+10</td>\n",
       "    </tr>\n",
       "  </tbody>\n",
       "</table>\n",
       "</div>"
      ],
      "text/plain": [
       "         Postal Code     Model Year  Electric Range      Base MSRP  \\\n",
       "count  135030.000000  135038.000000   135037.000000  135037.000000   \n",
       "mean    98171.001577    2019.662880       74.591964    1448.407325   \n",
       "std      2450.367211       3.001676       98.744120    9683.658138   \n",
       "min      1730.000000    1997.000000        0.000000       0.000000   \n",
       "25%     98052.000000    2018.000000        0.000000       0.000000   \n",
       "50%     98121.000000    2021.000000       21.000000       0.000000   \n",
       "75%     98370.000000    2022.000000      150.000000       0.000000   \n",
       "max     99701.000000    2024.000000      337.000000  845000.000000   \n",
       "\n",
       "       Legislative District  DOL Vehicle ID  2020 Census Tract  \n",
       "count         134726.000000    1.350380e+05       1.350300e+05  \n",
       "mean              29.504379    2.063432e+08       5.297233e+10  \n",
       "std               14.783780    8.582417e+07       1.635783e+09  \n",
       "min                1.000000    4.385000e+03       1.081042e+09  \n",
       "25%               18.000000    1.606305e+08       5.303301e+10  \n",
       "50%               34.000000    2.059563e+08       5.303303e+10  \n",
       "75%               43.000000    2.308888e+08       5.305307e+10  \n",
       "max               49.000000    4.792548e+08       5.603300e+10  "
      ]
     },
     "execution_count": 6,
     "metadata": {},
     "output_type": "execute_result"
    }
   ],
   "source": [
    "#Examine summary statistics using\n",
    "df.describe()"
   ]
  },
  {
   "cell_type": "code",
   "execution_count": 8,
   "id": "be6156fb",
   "metadata": {},
   "outputs": [
    {
     "data": {
      "text/plain": [
       "VIN (1-10)                                             0\n",
       "County                                                 8\n",
       "City                                                   8\n",
       "State                                                  0\n",
       "Postal Code                                            8\n",
       "Model Year                                             0\n",
       "Make                                                   0\n",
       "Model                                                249\n",
       "Electric Vehicle Type                                  0\n",
       "Clean Alternative Fuel Vehicle (CAFV) Eligibility      0\n",
       "Electric Range                                         1\n",
       "Base MSRP                                              1\n",
       "Legislative District                                 312\n",
       "DOL Vehicle ID                                         0\n",
       "Vehicle Location                                      10\n",
       "Electric Utility                                       8\n",
       "2020 Census Tract                                      8\n",
       "dtype: int64"
      ]
     },
     "execution_count": 8,
     "metadata": {},
     "output_type": "execute_result"
    }
   ],
   "source": [
    "#Check for missing values with\n",
    "df.isnull().sum()"
   ]
  },
  {
   "cell_type": "code",
   "execution_count": null,
   "id": "26c016e5",
   "metadata": {},
   "outputs": [],
   "source": []
  }
 ],
 "metadata": {
  "kernelspec": {
   "display_name": "Python 3 (ipykernel)",
   "language": "python",
   "name": "python3"
  },
  "language_info": {
   "codemirror_mode": {
    "name": "ipython",
    "version": 3
   },
   "file_extension": ".py",
   "mimetype": "text/x-python",
   "name": "python",
   "nbconvert_exporter": "python",
   "pygments_lexer": "ipython3",
   "version": "3.11.1"
  }
 },
 "nbformat": 4,
 "nbformat_minor": 5
}
